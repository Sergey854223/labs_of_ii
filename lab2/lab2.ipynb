{
  "nbformat": 4,
  "nbformat_minor": 0,
  "metadata": {
    "colab": {
      "provenance": [],
      "include_colab_link": true
    },
    "kernelspec": {
      "name": "ir",
      "display_name": "R"
    },
    "language_info": {
      "name": "R"
    }
  },
  "cells": [
    {
      "cell_type": "markdown",
      "metadata": {
        "id": "view-in-github",
        "colab_type": "text"
      },
      "source": [
        "<a href=\"https://colab.research.google.com/github/Sergey854223/labs_of_ii/blob/main/lab2/lab2.ipynb\" target=\"_parent\"><img src=\"https://colab.research.google.com/assets/colab-badge.svg\" alt=\"Open In Colab\"/></a>"
      ]
    },
    {
      "cell_type": "markdown",
      "source": [
        "**Задание**:\n",
        "Создать фрейм данных из N записей со следующими полями: Nrow – номер записи, Name – имя сотрудника, BirthYear – год рождения, EmployYear – год приема на работу, Salary – зарплата. Заполнить данный фрейм данными так, что Nrow изменяется от 1 до N. Name задается произвольно, BirthYear распределено равномерно (случайно) на отрезке [1965, 1990], EmployYear распределен равномерно на отрезке [BirthYear+18, 2006], Salary задается произвольно в интервале от 10000 до 30000. Подсчитать число сотрудников с зарплатой, больше 15000. \n",
        "Добавить в таблицу поле, соответствующее суммарному подоходному налогу (ставка 13%), выплаченному сотрудником за время работы в организации."
      ],
      "metadata": {
        "id": "jDbIO9HQWuVl"
      }
    },
    {
      "cell_type": "code",
      "execution_count": 1,
      "metadata": {
        "id": "ZpmwzCESWj96"
      },
      "outputs": [],
      "source": [
        "# исходное число записей и последовательность для нумерации\n",
        "N <- 100\n",
        "Nrow <- 1:N"
      ]
    },
    {
      "cell_type": "code",
      "source": [
        "# формирование вектора случайно сгенерированных имен\n",
        "gen_name <- function(x) {\n",
        "  # lists of names examples\n",
        "  name_list <- c(\"Иван\", \"Николай\", \"Никита\", \"Роман\")\n",
        "  surname_list<- c(\"Григорьев\", \"Самороков\", \"Орлов\", \"Рубин\")\n",
        "  \n",
        "  names_len <- length(name_list)\n",
        "  \n",
        "  emp_name <- paste(\n",
        "    name_list[sample(1:names_len, 1)], \n",
        "    surname_list[sample(1:names_len, 1)]\n",
        "  )\n",
        "  emp_name\n",
        "}\n",
        "\n",
        "Name <- sapply(Nrow, gen_name)"
      ],
      "metadata": {
        "id": "EjeTZbtzXAM5"
      },
      "execution_count": 2,
      "outputs": []
    },
    {
      "cell_type": "code",
      "source": [
        "# остальные вектора\n",
        "gen_empl_year <- function(birthday) {\n",
        "  sample((birthday + 18):2006, 1)\n",
        "}\n",
        "\n",
        "BirthYear <- sample(1965:1990, N, replace=T)\n",
        "\n",
        "EmployYear <- sapply(BirthYear, gen_empl_year)\n",
        "\n",
        "Salary <- sample(10000:30000, N, replace=T)"
      ],
      "metadata": {
        "id": "vGVg_jk6XGBV"
      },
      "execution_count": 3,
      "outputs": []
    },
    {
      "cell_type": "code",
      "source": [
        "# собираем датафрейм и выводим его\n",
        "df <- data.frame(\n",
        "  Nrow=Nrow,\n",
        "  Name=Name,\n",
        "  BirthYear=BirthYear,\n",
        "  EmployYear=EmployYear,\n",
        "  Salary=Salary\n",
        ")\n",
        "\n",
        "head(df)"
      ],
      "metadata": {
        "colab": {
          "base_uri": "https://localhost:8080/",
          "height": 286
        },
        "id": "Nv19R-hAXLAv",
        "outputId": "53aa30bd-f083-4426-ceb4-f26d84e1c410"
      },
      "execution_count": 4,
      "outputs": [
        {
          "output_type": "display_data",
          "data": {
            "text/html": [
              "<table class=\"dataframe\">\n",
              "<caption>A data.frame: 6 × 5</caption>\n",
              "<thead>\n",
              "\t<tr><th></th><th scope=col>Nrow</th><th scope=col>Name</th><th scope=col>BirthYear</th><th scope=col>EmployYear</th><th scope=col>Salary</th></tr>\n",
              "\t<tr><th></th><th scope=col>&lt;int&gt;</th><th scope=col>&lt;chr&gt;</th><th scope=col>&lt;int&gt;</th><th scope=col>&lt;int&gt;</th><th scope=col>&lt;int&gt;</th></tr>\n",
              "</thead>\n",
              "<tbody>\n",
              "\t<tr><th scope=row>1</th><td>1</td><td>Иван Орлов     </td><td>1976</td><td>1999</td><td>29779</td></tr>\n",
              "\t<tr><th scope=row>2</th><td>2</td><td>Иван Орлов     </td><td>1990</td><td>2008</td><td>28903</td></tr>\n",
              "\t<tr><th scope=row>3</th><td>3</td><td>Роман Григорьев</td><td>1975</td><td>1998</td><td>25647</td></tr>\n",
              "\t<tr><th scope=row>4</th><td>4</td><td>Николай Орлов  </td><td>1987</td><td>2005</td><td>22513</td></tr>\n",
              "\t<tr><th scope=row>5</th><td>5</td><td>Роман Орлов    </td><td>1973</td><td>1991</td><td>22306</td></tr>\n",
              "\t<tr><th scope=row>6</th><td>6</td><td>Иван Самороков </td><td>1979</td><td>2001</td><td>21723</td></tr>\n",
              "</tbody>\n",
              "</table>\n"
            ],
            "text/markdown": "\nA data.frame: 6 × 5\n\n| <!--/--> | Nrow &lt;int&gt; | Name &lt;chr&gt; | BirthYear &lt;int&gt; | EmployYear &lt;int&gt; | Salary &lt;int&gt; |\n|---|---|---|---|---|---|\n| 1 | 1 | Иван Орлов      | 1976 | 1999 | 29779 |\n| 2 | 2 | Иван Орлов      | 1990 | 2008 | 28903 |\n| 3 | 3 | Роман Григорьев | 1975 | 1998 | 25647 |\n| 4 | 4 | Николай Орлов   | 1987 | 2005 | 22513 |\n| 5 | 5 | Роман Орлов     | 1973 | 1991 | 22306 |\n| 6 | 6 | Иван Самороков  | 1979 | 2001 | 21723 |\n\n",
            "text/latex": "A data.frame: 6 × 5\n\\begin{tabular}{r|lllll}\n  & Nrow & Name & BirthYear & EmployYear & Salary\\\\\n  & <int> & <chr> & <int> & <int> & <int>\\\\\n\\hline\n\t1 & 1 & Иван Орлов      & 1976 & 1999 & 29779\\\\\n\t2 & 2 & Иван Орлов      & 1990 & 2008 & 28903\\\\\n\t3 & 3 & Роман Григорьев & 1975 & 1998 & 25647\\\\\n\t4 & 4 & Николай Орлов   & 1987 & 2005 & 22513\\\\\n\t5 & 5 & Роман Орлов     & 1973 & 1991 & 22306\\\\\n\t6 & 6 & Иван Самороков  & 1979 & 2001 & 21723\\\\\n\\end{tabular}\n",
            "text/plain": [
              "  Nrow Name            BirthYear EmployYear Salary\n",
              "1 1    Иван Орлов      1976      1999       29779 \n",
              "2 2    Иван Орлов      1990      2008       28903 \n",
              "3 3    Роман Григорьев 1975      1998       25647 \n",
              "4 4    Николай Орлов   1987      2005       22513 \n",
              "5 5    Роман Орлов     1973      1991       22306 \n",
              "6 6    Иван Самороков  1979      2001       21723 "
            ]
          },
          "metadata": {}
        }
      ]
    },
    {
      "cell_type": "code",
      "source": [
        "salary_cmp_count <- nrow(df[df$Salary > 15000,])\n",
        "cat(sprintf(\"Число сотрудников с зарплатой, больше 15000: %i\", salary_cmp_count))"
      ],
      "metadata": {
        "colab": {
          "base_uri": "https://localhost:8080/"
        },
        "id": "gFApvfz4XSwT",
        "outputId": "c3bee6cc-ed07-41ca-fbcb-fe177bdfae43"
      },
      "execution_count": 5,
      "outputs": [
        {
          "output_type": "stream",
          "name": "stdout",
          "text": [
            "Число сотрудников с зарплатой, больше 15000: 76"
          ]
        }
      ]
    },
    {
      "cell_type": "code",
      "source": [
        "# расчет суммарного подоходного налога за все время работы в организации\n",
        "currrent_year <- as.numeric(format(Sys.Date(), format=\"%Y\"))\n",
        "df$TotalIncomeTax <- with(df, (currrent_year - EmployYear)*Salary*0.13)\n",
        "\n",
        "# финальный результат\n",
        "head(df)"
      ],
      "metadata": {
        "colab": {
          "base_uri": "https://localhost:8080/",
          "height": 286
        },
        "id": "o9kMMw4AXWZ9",
        "outputId": "8322a9d3-defb-4179-c55c-35877e81a356"
      },
      "execution_count": 6,
      "outputs": [
        {
          "output_type": "display_data",
          "data": {
            "text/html": [
              "<table class=\"dataframe\">\n",
              "<caption>A data.frame: 6 × 6</caption>\n",
              "<thead>\n",
              "\t<tr><th></th><th scope=col>Nrow</th><th scope=col>Name</th><th scope=col>BirthYear</th><th scope=col>EmployYear</th><th scope=col>Salary</th><th scope=col>TotalIncomeTax</th></tr>\n",
              "\t<tr><th></th><th scope=col>&lt;int&gt;</th><th scope=col>&lt;chr&gt;</th><th scope=col>&lt;int&gt;</th><th scope=col>&lt;int&gt;</th><th scope=col>&lt;int&gt;</th><th scope=col>&lt;dbl&gt;</th></tr>\n",
              "</thead>\n",
              "<tbody>\n",
              "\t<tr><th scope=row>1</th><td>1</td><td>Иван Орлов     </td><td>1976</td><td>1999</td><td>29779</td><td>89039.21</td></tr>\n",
              "\t<tr><th scope=row>2</th><td>2</td><td>Иван Орлов     </td><td>1990</td><td>2008</td><td>28903</td><td>52603.46</td></tr>\n",
              "\t<tr><th scope=row>3</th><td>3</td><td>Роман Григорьев</td><td>1975</td><td>1998</td><td>25647</td><td>80018.64</td></tr>\n",
              "\t<tr><th scope=row>4</th><td>4</td><td>Николай Орлов  </td><td>1987</td><td>2005</td><td>22513</td><td>49753.73</td></tr>\n",
              "\t<tr><th scope=row>5</th><td>5</td><td>Роман Орлов    </td><td>1973</td><td>1991</td><td>22306</td><td>89893.18</td></tr>\n",
              "\t<tr><th scope=row>6</th><td>6</td><td>Иван Самороков </td><td>1979</td><td>2001</td><td>21723</td><td>59303.79</td></tr>\n",
              "</tbody>\n",
              "</table>\n"
            ],
            "text/markdown": "\nA data.frame: 6 × 6\n\n| <!--/--> | Nrow &lt;int&gt; | Name &lt;chr&gt; | BirthYear &lt;int&gt; | EmployYear &lt;int&gt; | Salary &lt;int&gt; | TotalIncomeTax &lt;dbl&gt; |\n|---|---|---|---|---|---|---|\n| 1 | 1 | Иван Орлов      | 1976 | 1999 | 29779 | 89039.21 |\n| 2 | 2 | Иван Орлов      | 1990 | 2008 | 28903 | 52603.46 |\n| 3 | 3 | Роман Григорьев | 1975 | 1998 | 25647 | 80018.64 |\n| 4 | 4 | Николай Орлов   | 1987 | 2005 | 22513 | 49753.73 |\n| 5 | 5 | Роман Орлов     | 1973 | 1991 | 22306 | 89893.18 |\n| 6 | 6 | Иван Самороков  | 1979 | 2001 | 21723 | 59303.79 |\n\n",
            "text/latex": "A data.frame: 6 × 6\n\\begin{tabular}{r|llllll}\n  & Nrow & Name & BirthYear & EmployYear & Salary & TotalIncomeTax\\\\\n  & <int> & <chr> & <int> & <int> & <int> & <dbl>\\\\\n\\hline\n\t1 & 1 & Иван Орлов      & 1976 & 1999 & 29779 & 89039.21\\\\\n\t2 & 2 & Иван Орлов      & 1990 & 2008 & 28903 & 52603.46\\\\\n\t3 & 3 & Роман Григорьев & 1975 & 1998 & 25647 & 80018.64\\\\\n\t4 & 4 & Николай Орлов   & 1987 & 2005 & 22513 & 49753.73\\\\\n\t5 & 5 & Роман Орлов     & 1973 & 1991 & 22306 & 89893.18\\\\\n\t6 & 6 & Иван Самороков  & 1979 & 2001 & 21723 & 59303.79\\\\\n\\end{tabular}\n",
            "text/plain": [
              "  Nrow Name            BirthYear EmployYear Salary TotalIncomeTax\n",
              "1 1    Иван Орлов      1976      1999       29779  89039.21      \n",
              "2 2    Иван Орлов      1990      2008       28903  52603.46      \n",
              "3 3    Роман Григорьев 1975      1998       25647  80018.64      \n",
              "4 4    Николай Орлов   1987      2005       22513  49753.73      \n",
              "5 5    Роман Орлов     1973      1991       22306  89893.18      \n",
              "6 6    Иван Самороков  1979      2001       21723  59303.79      "
            ]
          },
          "metadata": {}
        }
      ]
    }
  ]
}