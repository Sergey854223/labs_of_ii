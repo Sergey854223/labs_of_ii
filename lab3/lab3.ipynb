{
  "nbformat": 4,
  "nbformat_minor": 0,
  "metadata": {
    "colab": {
      "provenance": [],
      "authorship_tag": "ABX9TyNRv0X5S+vmAJVL+BdBQ677",
      "include_colab_link": true
    },
    "kernelspec": {
      "name": "ir",
      "display_name": "R"
    },
    "language_info": {
      "name": "R"
    }
  },
  "cells": [
    {
      "cell_type": "markdown",
      "metadata": {
        "id": "view-in-github",
        "colab_type": "text"
      },
      "source": [
        "<a href=\"https://colab.research.google.com/github/Sergey854223/labs_of_ii/blob/main/lab3/lab3.ipynb\" target=\"_parent\"><img src=\"https://colab.research.google.com/assets/colab-badge.svg\" alt=\"Open In Colab\"/></a>"
      ]
    },
    {
      "cell_type": "code",
      "execution_count": null,
      "metadata": {
        "id": "j4yE2K3JYd_p"
      },
      "outputs": [],
      "source": [
        "library(ggplot2)\n",
        "library(tidyr)\n",
        "library(RColorBrewer)"
      ]
    },
    {
      "cell_type": "code",
      "source": [
        "# скачиваем датасет с локального хранилища (положить себе на гугл-диск и расшарить) \n",
        "# https://drive.google.com/file/d/1Q_okoKkyBZZe8oWMKPDXK26la_lbCTP2/view?usp=sharing\n",
        "system(\"gdown --id 1Q_okoKkyBZZe8oWMKPDXK26la_lbCTP2\")\n",
        "system(\"ls\", TRUE)\n",
        "\n",
        "dataset = read.csv(\"Hunger Games survival analysis data set.csv\")"
      ],
      "metadata": {
        "colab": {
          "base_uri": "https://localhost:8080/",
          "height": 34
        },
        "id": "lIa3wRfhaV0A",
        "outputId": "954cd1c3-c611-461a-bd98-9ac89f2679c5"
      },
      "execution_count": null,
      "outputs": [
        {
          "output_type": "display_data",
          "data": {
            "text/html": [
              "<style>\n",
              ".list-inline {list-style: none; margin:0; padding: 0}\n",
              ".list-inline>li {display: inline-block}\n",
              ".list-inline>li:not(:last-child)::after {content: \"\\00b7\"; padding: 0 .5ex}\n",
              "</style>\n",
              "<ol class=list-inline><li>'custumer_dataset_1.csv'</li><li>'Hunger Games survival analysis data set.csv'</li><li>'sample_data'</li></ol>\n"
            ],
            "text/markdown": "1. 'custumer_dataset_1.csv'\n2. 'Hunger Games survival analysis data set.csv'\n3. 'sample_data'\n\n\n",
            "text/latex": "\\begin{enumerate*}\n\\item 'custumer\\_dataset\\_1.csv'\n\\item 'Hunger Games survival analysis data set.csv'\n\\item 'sample\\_data'\n\\end{enumerate*}\n",
            "text/plain": [
              "[1] \"custumer_dataset_1.csv\"                     \n",
              "[2] \"Hunger Games survival analysis data set.csv\"\n",
              "[3] \"sample_data\"                                "
            ]
          },
          "metadata": {}
        }
      ]
    },
    {
      "cell_type": "code",
      "source": [
        "# смотрим на данные\n",
        "str(dataset)\n",
        "head(dataset)\n",
        "any(is.na(dataset))\n",
        "summary(dataset)"
      ],
      "metadata": {
        "colab": {
          "base_uri": "https://localhost:8080/",
          "height": 1000
        },
        "id": "_W40RknwabTC",
        "outputId": "4b91b341-8d9b-4a8f-86a1-1281c5734f4e"
      },
      "execution_count": null,
      "outputs": [
        {
          "output_type": "stream",
          "name": "stdout",
          "text": [
            "'data.frame':\t24 obs. of  15 variables:\n",
            " $ index        : int  0 1 2 3 4 5 6 7 8 9 ...\n",
            " $ unique_id    : int  1 2 3 4 5 6 7 8 9 10 ...\n",
            " $ name         : chr  \"Marvel\" \"Glimmer\" \"Cato\" \"Clove\" ...\n",
            " $ district     : int  1 1 2 2 3 3 4 4 5 5 ...\n",
            " $ sex          : int  0 1 0 1 0 1 0 1 0 1 ...\n",
            " $ age          : int  17 17 18 15 15 16 13 16 15 15 ...\n",
            " $ volunteer    : int  1 1 1 1 1 0 1 1 0 0 ...\n",
            " $ career       : int  1 1 1 1 1 0 1 1 0 0 ...\n",
            " $ rating       : num  9 10 10 10 NA NA NA NA NA 5 ...\n",
            " $ rating_ave   : int  9 10 10 10 9 5 9 9 5 5 ...\n",
            " $ rating_rand  : int  9 10 10 10 10 4 9 8 3 5 ...\n",
            " $ survival_days: int  9 5 17 12 8 1 1 5 1 15 ...\n",
            " $ rank         : int  8 11 3 6 9 14 14 12 14 4 ...\n",
            " $ winner       : int  0 0 0 0 0 0 0 0 0 0 ...\n",
            " $ alliance     : num  1 1 1 1 1 NA NA 1 NA 0 ...\n"
          ]
        },
        {
          "output_type": "display_data",
          "data": {
            "text/html": [
              "<table class=\"dataframe\">\n",
              "<caption>A data.frame: 6 × 15</caption>\n",
              "<thead>\n",
              "\t<tr><th></th><th scope=col>index</th><th scope=col>unique_id</th><th scope=col>name</th><th scope=col>district</th><th scope=col>sex</th><th scope=col>age</th><th scope=col>volunteer</th><th scope=col>career</th><th scope=col>rating</th><th scope=col>rating_ave</th><th scope=col>rating_rand</th><th scope=col>survival_days</th><th scope=col>rank</th><th scope=col>winner</th><th scope=col>alliance</th></tr>\n",
              "\t<tr><th></th><th scope=col>&lt;int&gt;</th><th scope=col>&lt;int&gt;</th><th scope=col>&lt;chr&gt;</th><th scope=col>&lt;int&gt;</th><th scope=col>&lt;int&gt;</th><th scope=col>&lt;int&gt;</th><th scope=col>&lt;int&gt;</th><th scope=col>&lt;int&gt;</th><th scope=col>&lt;dbl&gt;</th><th scope=col>&lt;int&gt;</th><th scope=col>&lt;int&gt;</th><th scope=col>&lt;int&gt;</th><th scope=col>&lt;int&gt;</th><th scope=col>&lt;int&gt;</th><th scope=col>&lt;dbl&gt;</th></tr>\n",
              "</thead>\n",
              "<tbody>\n",
              "\t<tr><th scope=row>1</th><td>0</td><td>1</td><td>Marvel </td><td>1</td><td>0</td><td>17</td><td>1</td><td>1</td><td> 9</td><td> 9</td><td> 9</td><td> 9</td><td> 8</td><td>0</td><td> 1</td></tr>\n",
              "\t<tr><th scope=row>2</th><td>1</td><td>2</td><td>Glimmer</td><td>1</td><td>1</td><td>17</td><td>1</td><td>1</td><td>10</td><td>10</td><td>10</td><td> 5</td><td>11</td><td>0</td><td> 1</td></tr>\n",
              "\t<tr><th scope=row>3</th><td>2</td><td>3</td><td>Cato   </td><td>2</td><td>0</td><td>18</td><td>1</td><td>1</td><td>10</td><td>10</td><td>10</td><td>17</td><td> 3</td><td>0</td><td> 1</td></tr>\n",
              "\t<tr><th scope=row>4</th><td>3</td><td>4</td><td>Clove  </td><td>2</td><td>1</td><td>15</td><td>1</td><td>1</td><td>10</td><td>10</td><td>10</td><td>12</td><td> 6</td><td>0</td><td> 1</td></tr>\n",
              "\t<tr><th scope=row>5</th><td>4</td><td>5</td><td>unknown</td><td>3</td><td>0</td><td>15</td><td>1</td><td>1</td><td>NA</td><td> 9</td><td>10</td><td> 8</td><td> 9</td><td>0</td><td> 1</td></tr>\n",
              "\t<tr><th scope=row>6</th><td>5</td><td>6</td><td>unknown</td><td>3</td><td>1</td><td>16</td><td>0</td><td>0</td><td>NA</td><td> 5</td><td> 4</td><td> 1</td><td>14</td><td>0</td><td>NA</td></tr>\n",
              "</tbody>\n",
              "</table>\n"
            ],
            "text/markdown": "\nA data.frame: 6 × 15\n\n| <!--/--> | index &lt;int&gt; | unique_id &lt;int&gt; | name &lt;chr&gt; | district &lt;int&gt; | sex &lt;int&gt; | age &lt;int&gt; | volunteer &lt;int&gt; | career &lt;int&gt; | rating &lt;dbl&gt; | rating_ave &lt;int&gt; | rating_rand &lt;int&gt; | survival_days &lt;int&gt; | rank &lt;int&gt; | winner &lt;int&gt; | alliance &lt;dbl&gt; |\n|---|---|---|---|---|---|---|---|---|---|---|---|---|---|---|---|\n| 1 | 0 | 1 | Marvel  | 1 | 0 | 17 | 1 | 1 |  9 |  9 |  9 |  9 |  8 | 0 |  1 |\n| 2 | 1 | 2 | Glimmer | 1 | 1 | 17 | 1 | 1 | 10 | 10 | 10 |  5 | 11 | 0 |  1 |\n| 3 | 2 | 3 | Cato    | 2 | 0 | 18 | 1 | 1 | 10 | 10 | 10 | 17 |  3 | 0 |  1 |\n| 4 | 3 | 4 | Clove   | 2 | 1 | 15 | 1 | 1 | 10 | 10 | 10 | 12 |  6 | 0 |  1 |\n| 5 | 4 | 5 | unknown | 3 | 0 | 15 | 1 | 1 | NA |  9 | 10 |  8 |  9 | 0 |  1 |\n| 6 | 5 | 6 | unknown | 3 | 1 | 16 | 0 | 0 | NA |  5 |  4 |  1 | 14 | 0 | NA |\n\n",
            "text/latex": "A data.frame: 6 × 15\n\\begin{tabular}{r|lllllllllllllll}\n  & index & unique\\_id & name & district & sex & age & volunteer & career & rating & rating\\_ave & rating\\_rand & survival\\_days & rank & winner & alliance\\\\\n  & <int> & <int> & <chr> & <int> & <int> & <int> & <int> & <int> & <dbl> & <int> & <int> & <int> & <int> & <int> & <dbl>\\\\\n\\hline\n\t1 & 0 & 1 & Marvel  & 1 & 0 & 17 & 1 & 1 &  9 &  9 &  9 &  9 &  8 & 0 &  1\\\\\n\t2 & 1 & 2 & Glimmer & 1 & 1 & 17 & 1 & 1 & 10 & 10 & 10 &  5 & 11 & 0 &  1\\\\\n\t3 & 2 & 3 & Cato    & 2 & 0 & 18 & 1 & 1 & 10 & 10 & 10 & 17 &  3 & 0 &  1\\\\\n\t4 & 3 & 4 & Clove   & 2 & 1 & 15 & 1 & 1 & 10 & 10 & 10 & 12 &  6 & 0 &  1\\\\\n\t5 & 4 & 5 & unknown & 3 & 0 & 15 & 1 & 1 & NA &  9 & 10 &  8 &  9 & 0 &  1\\\\\n\t6 & 5 & 6 & unknown & 3 & 1 & 16 & 0 & 0 & NA &  5 &  4 &  1 & 14 & 0 & NA\\\\\n\\end{tabular}\n",
            "text/plain": [
              "  index unique_id name    district sex age volunteer career rating rating_ave\n",
              "1 0     1         Marvel  1        0   17  1         1       9      9        \n",
              "2 1     2         Glimmer 1        1   17  1         1      10     10        \n",
              "3 2     3         Cato    2        0   18  1         1      10     10        \n",
              "4 3     4         Clove   2        1   15  1         1      10     10        \n",
              "5 4     5         unknown 3        0   15  1         1      NA      9        \n",
              "6 5     6         unknown 3        1   16  0         0      NA      5        \n",
              "  rating_rand survival_days rank winner alliance\n",
              "1  9           9             8   0       1      \n",
              "2 10           5            11   0       1      \n",
              "3 10          17             3   0       1      \n",
              "4 10          12             6   0       1      \n",
              "5 10           8             9   0       1      \n",
              "6  4           1            14   0      NA      "
            ]
          },
          "metadata": {}
        },
        {
          "output_type": "display_data",
          "data": {
            "text/html": [
              "TRUE"
            ],
            "text/markdown": "TRUE",
            "text/latex": "TRUE",
            "text/plain": [
              "[1] TRUE"
            ]
          },
          "metadata": {}
        },
        {
          "output_type": "display_data",
          "data": {
            "text/plain": [
              "     index         unique_id         name              district    \n",
              " Min.   : 0.00   Min.   : 1.00   Length:24          Min.   : 1.00  \n",
              " 1st Qu.: 5.75   1st Qu.: 6.75   Class :character   1st Qu.: 3.75  \n",
              " Median :11.50   Median :12.50   Mode  :character   Median : 6.50  \n",
              " Mean   :11.50   Mean   :12.50                      Mean   : 6.50  \n",
              " 3rd Qu.:17.25   3rd Qu.:18.25                      3rd Qu.: 9.25  \n",
              " Max.   :23.00   Max.   :24.00                      Max.   :12.00  \n",
              "                                                                   \n",
              "      sex           age          volunteer          career      \n",
              " Min.   :0.0   Min.   :12.00   Min.   :0.0000   Min.   :0.0000  \n",
              " 1st Qu.:0.0   1st Qu.:15.00   1st Qu.:0.0000   1st Qu.:0.0000  \n",
              " Median :0.5   Median :16.00   Median :0.0000   Median :0.0000  \n",
              " Mean   :0.5   Mean   :15.79   Mean   :0.3333   Mean   :0.2917  \n",
              " 3rd Qu.:1.0   3rd Qu.:17.00   3rd Qu.:1.0000   3rd Qu.:1.0000  \n",
              " Max.   :1.0   Max.   :18.00   Max.   :1.0000   Max.   :1.0000  \n",
              "                                                                \n",
              "     rating         rating_ave      rating_rand    survival_days   \n",
              " Min.   : 5.000   Min.   : 5.000   Min.   : 3.00   Min.   : 1.000  \n",
              " 1st Qu.: 8.000   1st Qu.: 5.000   1st Qu.: 4.00   1st Qu.: 1.000  \n",
              " Median :10.000   Median : 5.000   Median : 7.00   Median : 3.500  \n",
              " Mean   : 8.889   Mean   : 6.958   Mean   : 6.75   Mean   : 6.458  \n",
              " 3rd Qu.:10.000   3rd Qu.: 9.000   3rd Qu.: 9.25   3rd Qu.: 9.750  \n",
              " Max.   :11.000   Max.   :11.000   Max.   :11.00   Max.   :20.000  \n",
              " NA's   :15                                                        \n",
              "      rank           winner           alliance     \n",
              " Min.   : 1.00   Min.   :0.00000   Min.   :0.0000  \n",
              " 1st Qu.: 6.75   1st Qu.:0.00000   1st Qu.:0.0000  \n",
              " Median :12.50   Median :0.00000   Median :1.0000  \n",
              " Mean   :10.17   Mean   :0.08333   Mean   :0.6923  \n",
              " 3rd Qu.:14.00   3rd Qu.:0.00000   3rd Qu.:1.0000  \n",
              " Max.   :14.00   Max.   :1.00000   Max.   :1.0000  \n",
              "                                   NA's   :11      "
            ]
          },
          "metadata": {}
        }
      ]
    },
    {
      "cell_type": "code",
      "source": [
        "hist(dataset$age)"
      ],
      "metadata": {
        "colab": {
          "base_uri": "https://localhost:8080/",
          "height": 437
        },
        "id": "BpXKh6mLah25",
        "outputId": "708c71e5-6195-4220-8c8f-5e269a1b0160"
      },
      "execution_count": null,
      "outputs": [
        {
          "output_type": "display_data",
          "data": {
            "text/plain": [
              "Plot with title “Histogram of dataset$age”"
            ],
            "image/png": "[encoded data removed]"
          },
          "metadata": {
            "image/png": {
              "width": 420,
              "height": 420
            }
          }
        }
      ]
    },
    {
      "cell_type": "code",
      "source": [
        "# предобработка: уберем пропуски в данных; удалим нецелевые признаки; \n",
        "df0 = data.frame(dataset)\n",
        "df0 <- na.omit(df0)\n",
        "\n",
        "df = subset(df0, select = -c(name,rating,alliance))\n",
        "\n",
        "any(is.na(df))\n",
        "nrow(df)"
      ],
      "metadata": {
        "colab": {
          "base_uri": "https://localhost:8080/",
          "height": 52
        },
        "id": "iaRXBYPearfj",
        "outputId": "975da355-7803-4497-dd3f-d8e03b05d52c"
      },
      "execution_count": null,
      "outputs": [
        {
          "output_type": "display_data",
          "data": {
            "text/html": [
              "FALSE"
            ],
            "text/markdown": "FALSE",
            "text/latex": "FALSE",
            "text/plain": [
              "[1] FALSE"
            ]
          },
          "metadata": {}
        },
        {
          "output_type": "display_data",
          "data": {
            "text/html": [
              "9"
            ],
            "text/markdown": "9",
            "text/latex": "9",
            "text/plain": [
              "[1] 9"
            ]
          },
          "metadata": {}
        }
      ]
    },
    {
      "cell_type": "code",
      "source": [
        "# нормализуем данные\n",
        "df_scaled <- data.frame(scale(df))\n",
        "\n",
        "head(df_scaled)\n",
        "nrow(df_scaled)"
      ],
      "metadata": {
        "colab": {
          "base_uri": "https://localhost:8080/",
          "height": 323
        },
        "id": "AcWJSDZ9bJzQ",
        "outputId": "fb965a3c-9120-452e-ec37-2cd614a07da8"
      },
      "execution_count": null,
      "outputs": [
        {
          "output_type": "display_data",
          "data": {
            "text/html": [
              "<table class=\"dataframe\">\n",
              "<caption>A data.frame: 6 × 12</caption>\n",
              "<thead>\n",
              "\t<tr><th></th><th scope=col>index</th><th scope=col>unique_id</th><th scope=col>district</th><th scope=col>sex</th><th scope=col>age</th><th scope=col>volunteer</th><th scope=col>career</th><th scope=col>rating_ave</th><th scope=col>rating_rand</th><th scope=col>survival_days</th><th scope=col>rank</th><th scope=col>winner</th></tr>\n",
              "\t<tr><th></th><th scope=col>&lt;dbl&gt;</th><th scope=col>&lt;dbl&gt;</th><th scope=col>&lt;dbl&gt;</th><th scope=col>&lt;dbl&gt;</th><th scope=col>&lt;dbl&gt;</th><th scope=col>&lt;dbl&gt;</th><th scope=col>&lt;dbl&gt;</th><th scope=col>&lt;dbl&gt;</th><th scope=col>&lt;dbl&gt;</th><th scope=col>&lt;dbl&gt;</th><th scope=col>&lt;dbl&gt;</th><th scope=col>&lt;dbl&gt;</th></tr>\n",
              "</thead>\n",
              "<tbody>\n",
              "\t<tr><th scope=row>1</th><td>-1.1114683</td><td>-1.1114683</td><td>-1.0561574</td><td>-1.054093</td><td> 0.5345225</td><td> 0.843274</td><td> 1.054093</td><td> 0.05847053</td><td> 0.05847053</td><td>-0.8588755</td><td> 0.87658434</td><td>-0.5039526</td></tr>\n",
              "\t<tr><th scope=row>2</th><td>-1.0124266</td><td>-1.0124266</td><td>-1.0561574</td><td> 0.843274</td><td> 0.5345225</td><td> 0.843274</td><td> 1.054093</td><td> 0.58470535</td><td> 0.58470535</td><td>-1.6318635</td><td> 1.78688347</td><td>-0.5039526</td></tr>\n",
              "\t<tr><th scope=row>3</th><td>-0.9133848</td><td>-0.9133848</td><td>-0.8581279</td><td>-1.054093</td><td> 1.0690450</td><td> 0.843274</td><td> 1.054093</td><td> 0.58470535</td><td> 0.58470535</td><td> 0.6871004</td><td>-0.64058087</td><td>-0.5039526</td></tr>\n",
              "\t<tr><th scope=row>4</th><td>-0.8143431</td><td>-0.8143431</td><td>-0.8581279</td><td> 0.843274</td><td>-0.5345225</td><td> 0.843274</td><td> 1.054093</td><td> 0.58470535</td><td> 0.58470535</td><td>-0.2791345</td><td> 0.26971826</td><td>-0.5039526</td></tr>\n",
              "\t<tr><th scope=row>10</th><td>-0.2200927</td><td>-0.2200927</td><td>-0.2640393</td><td> 0.843274</td><td>-0.5345225</td><td>-1.054093</td><td>-0.843274</td><td>-2.04646871</td><td>-2.04646871</td><td> 0.3006064</td><td>-0.33714782</td><td>-0.5039526</td></tr>\n",
              "\t<tr><th scope=row>21</th><td> 0.8693663</td><td> 0.8693663</td><td> 0.9241377</td><td>-1.054093</td><td> 1.0690450</td><td>-1.054093</td><td>-0.843274</td><td> 0.58470535</td><td> 0.58470535</td><td> 0.1073594</td><td>-0.03371478</td><td>-0.5039526</td></tr>\n",
              "</tbody>\n",
              "</table>\n"
            ],
            "text/markdown": "\nA data.frame: 6 × 12\n\n| <!--/--> | index &lt;dbl&gt; | unique_id &lt;dbl&gt; | district &lt;dbl&gt; | sex &lt;dbl&gt; | age &lt;dbl&gt; | volunteer &lt;dbl&gt; | career &lt;dbl&gt; | rating_ave &lt;dbl&gt; | rating_rand &lt;dbl&gt; | survival_days &lt;dbl&gt; | rank &lt;dbl&gt; | winner &lt;dbl&gt; |\n|---|---|---|---|---|---|---|---|---|---|---|---|---|\n| 1 | -1.1114683 | -1.1114683 | -1.0561574 | -1.054093 |  0.5345225 |  0.843274 |  1.054093 |  0.05847053 |  0.05847053 | -0.8588755 |  0.87658434 | -0.5039526 |\n| 2 | -1.0124266 | -1.0124266 | -1.0561574 |  0.843274 |  0.5345225 |  0.843274 |  1.054093 |  0.58470535 |  0.58470535 | -1.6318635 |  1.78688347 | -0.5039526 |\n| 3 | -0.9133848 | -0.9133848 | -0.8581279 | -1.054093 |  1.0690450 |  0.843274 |  1.054093 |  0.58470535 |  0.58470535 |  0.6871004 | -0.64058087 | -0.5039526 |\n| 4 | -0.8143431 | -0.8143431 | -0.8581279 |  0.843274 | -0.5345225 |  0.843274 |  1.054093 |  0.58470535 |  0.58470535 | -0.2791345 |  0.26971826 | -0.5039526 |\n| 10 | -0.2200927 | -0.2200927 | -0.2640393 |  0.843274 | -0.5345225 | -1.054093 | -0.843274 | -2.04646871 | -2.04646871 |  0.3006064 | -0.33714782 | -0.5039526 |\n| 21 |  0.8693663 |  0.8693663 |  0.9241377 | -1.054093 |  1.0690450 | -1.054093 | -0.843274 |  0.58470535 |  0.58470535 |  0.1073594 | -0.03371478 | -0.5039526 |\n\n",
            "text/latex": "A data.frame: 6 × 12\n\\begin{tabular}{r|llllllllllll}\n  & index & unique\\_id & district & sex & age & volunteer & career & rating\\_ave & rating\\_rand & survival\\_days & rank & winner\\\\\n  & <dbl> & <dbl> & <dbl> & <dbl> & <dbl> & <dbl> & <dbl> & <dbl> & <dbl> & <dbl> & <dbl> & <dbl>\\\\\n\\hline\n\t1 & -1.1114683 & -1.1114683 & -1.0561574 & -1.054093 &  0.5345225 &  0.843274 &  1.054093 &  0.05847053 &  0.05847053 & -0.8588755 &  0.87658434 & -0.5039526\\\\\n\t2 & -1.0124266 & -1.0124266 & -1.0561574 &  0.843274 &  0.5345225 &  0.843274 &  1.054093 &  0.58470535 &  0.58470535 & -1.6318635 &  1.78688347 & -0.5039526\\\\\n\t3 & -0.9133848 & -0.9133848 & -0.8581279 & -1.054093 &  1.0690450 &  0.843274 &  1.054093 &  0.58470535 &  0.58470535 &  0.6871004 & -0.64058087 & -0.5039526\\\\\n\t4 & -0.8143431 & -0.8143431 & -0.8581279 &  0.843274 & -0.5345225 &  0.843274 &  1.054093 &  0.58470535 &  0.58470535 & -0.2791345 &  0.26971826 & -0.5039526\\\\\n\t10 & -0.2200927 & -0.2200927 & -0.2640393 &  0.843274 & -0.5345225 & -1.054093 & -0.843274 & -2.04646871 & -2.04646871 &  0.3006064 & -0.33714782 & -0.5039526\\\\\n\t21 &  0.8693663 &  0.8693663 &  0.9241377 & -1.054093 &  1.0690450 & -1.054093 & -0.843274 &  0.58470535 &  0.58470535 &  0.1073594 & -0.03371478 & -0.5039526\\\\\n\\end{tabular}\n",
            "text/plain": [
              "   index      unique_id  district   sex       age        volunteer career   \n",
              "1  -1.1114683 -1.1114683 -1.0561574 -1.054093  0.5345225  0.843274  1.054093\n",
              "2  -1.0124266 -1.0124266 -1.0561574  0.843274  0.5345225  0.843274  1.054093\n",
              "3  -0.9133848 -0.9133848 -0.8581279 -1.054093  1.0690450  0.843274  1.054093\n",
              "4  -0.8143431 -0.8143431 -0.8581279  0.843274 -0.5345225  0.843274  1.054093\n",
              "10 -0.2200927 -0.2200927 -0.2640393  0.843274 -0.5345225 -1.054093 -0.843274\n",
              "21  0.8693663  0.8693663  0.9241377 -1.054093  1.0690450 -1.054093 -0.843274\n",
              "   rating_ave  rating_rand survival_days rank        winner    \n",
              "1   0.05847053  0.05847053 -0.8588755     0.87658434 -0.5039526\n",
              "2   0.58470535  0.58470535 -1.6318635     1.78688347 -0.5039526\n",
              "3   0.58470535  0.58470535  0.6871004    -0.64058087 -0.5039526\n",
              "4   0.58470535  0.58470535 -0.2791345     0.26971826 -0.5039526\n",
              "10 -2.04646871 -2.04646871  0.3006064    -0.33714782 -0.5039526\n",
              "21  0.58470535  0.58470535  0.1073594    -0.03371478 -0.5039526"
            ]
          },
          "metadata": {}
        },
        {
          "output_type": "display_data",
          "data": {
            "text/html": [
              "9"
            ],
            "text/markdown": "9",
            "text/latex": "9",
            "text/plain": [
              "[1] 9"
            ]
          },
          "metadata": {}
        }
      ]
    },
    {
      "cell_type": "code",
      "source": [
        "set.seed(42)\n",
        "\n",
        "# функция запускает алгоритм k-mean и сохраняет сумму квадратов расстояния в кластерах\n",
        "kmean_withinss <- function(dataset, k) {\n",
        "    cluster <- kmeans(dataset, k)\n",
        "    return (cluster$tot.withinss)\n",
        "}\n",
        "\n",
        "# Set maximum cluster \n",
        "max_k <- 8 \n",
        "# Run algorithm over a range of k \n",
        "wss <- sapply(2:max_k, kmean_withinss, dataset = df_scaled)\n",
        "\n",
        "# Create a data frame to plot the graph\n",
        "elbow <-data.frame(2:max_k, wss)\n",
        "\n",
        "# Plot the graph with gglop\n",
        "ggplot(elbow, aes(x = X2.max_k, y = wss)) +\n",
        "    geom_point() +\n",
        "    geom_line() +\n",
        "    scale_x_continuous(breaks = seq(1, max_k, by = 1))"
      ],
      "metadata": {
        "colab": {
          "base_uri": "https://localhost:8080/",
          "height": 437
        },
        "id": "4FEcWLUhbOP3",
        "outputId": "ad426148-4725-4dc1-9eac-f12d9e123760"
      },
      "execution_count": null,
      "outputs": [
        {
          "output_type": "display_data",
          "data": {
            "text/plain": [
              "plot without title"
            ],
            "image/png": "[encoded data removed]"
          },
          "metadata": {
            "image/png": {
              "width": 420,
              "height": 420
            }
          }
        }
      ]
    },
    {
      "cell_type": "code",
      "source": [
        "optimal_k <- 3\n",
        "\n",
        "# create clustering model\n",
        "clust <- kmeans(df_scaled, optimal_k)"
      ],
      "metadata": {
        "id": "ZzL_esoybce4"
      },
      "execution_count": null,
      "outputs": []
    },
    {
      "cell_type": "code",
      "source": [
        "# информация о кластерах\n",
        "# clust$cluster\n",
        "clust$centers\n",
        "clust$size"
      ],
      "metadata": {
        "colab": {
          "base_uri": "https://localhost:8080/",
          "height": 198
        },
        "id": "pMrWEPbebiqH",
        "outputId": "991c3524-f359-4e1f-c8a3-e4120cd48f7b"
      },
      "execution_count": null,
      "outputs": [
        {
          "output_type": "display_data",
          "data": {
            "text/html": [
              "<table class=\"dataframe\">\n",
              "<caption>A matrix: 3 × 12 of type dbl</caption>\n",
              "<thead>\n",
              "\t<tr><th></th><th scope=col>index</th><th scope=col>unique_id</th><th scope=col>district</th><th scope=col>sex</th><th scope=col>age</th><th scope=col>volunteer</th><th scope=col>career</th><th scope=col>rating_ave</th><th scope=col>rating_rand</th><th scope=col>survival_days</th><th scope=col>rank</th><th scope=col>winner</th></tr>\n",
              "</thead>\n",
              "<tbody>\n",
              "\t<tr><th scope=row>1</th><td> 1.0344358</td><td> 1.0344358</td><td> 1.0561574</td><td>-0.4216370</td><td> 0.3563483</td><td>-0.421637</td><td>-0.843274</td><td> 0.4092937</td><td> 0.4092937</td><td> 0.8803474</td><td>-0.8428696</td><td> 1.0079053</td></tr>\n",
              "\t<tr><th scope=row>2</th><td>-0.9629057</td><td>-0.9629057</td><td>-0.9571426</td><td>-0.1054093</td><td> 0.4008919</td><td> 0.843274</td><td> 1.054093</td><td> 0.4531466</td><td> 0.4531466</td><td>-0.5206933</td><td> 0.5731513</td><td>-0.5039526</td></tr>\n",
              "\t<tr><th scope=row>3</th><td> 0.3741576</td><td> 0.3741576</td><td> 0.3300492</td><td> 0.8432740</td><td>-1.3363062</td><td>-1.054093</td><td>-0.843274</td><td>-1.5202339</td><td>-1.5202339</td><td>-0.2791345</td><td> 0.1180017</td><td>-0.5039526</td></tr>\n",
              "</tbody>\n",
              "</table>\n"
            ],
            "text/markdown": "\nA matrix: 3 × 12 of type dbl\n\n| <!--/--> | index | unique_id | district | sex | age | volunteer | career | rating_ave | rating_rand | survival_days | rank | winner |\n|---|---|---|---|---|---|---|---|---|---|---|---|---|\n| 1 |  1.0344358 |  1.0344358 |  1.0561574 | -0.4216370 |  0.3563483 | -0.421637 | -0.843274 |  0.4092937 |  0.4092937 |  0.8803474 | -0.8428696 |  1.0079053 |\n| 2 | -0.9629057 | -0.9629057 | -0.9571426 | -0.1054093 |  0.4008919 |  0.843274 |  1.054093 |  0.4531466 |  0.4531466 | -0.5206933 |  0.5731513 | -0.5039526 |\n| 3 |  0.3741576 |  0.3741576 |  0.3300492 |  0.8432740 | -1.3363062 | -1.054093 | -0.843274 | -1.5202339 | -1.5202339 | -0.2791345 |  0.1180017 | -0.5039526 |\n\n",
            "text/latex": "A matrix: 3 × 12 of type dbl\n\\begin{tabular}{r|llllllllllll}\n  & index & unique\\_id & district & sex & age & volunteer & career & rating\\_ave & rating\\_rand & survival\\_days & rank & winner\\\\\n\\hline\n\t1 &  1.0344358 &  1.0344358 &  1.0561574 & -0.4216370 &  0.3563483 & -0.421637 & -0.843274 &  0.4092937 &  0.4092937 &  0.8803474 & -0.8428696 &  1.0079053\\\\\n\t2 & -0.9629057 & -0.9629057 & -0.9571426 & -0.1054093 &  0.4008919 &  0.843274 &  1.054093 &  0.4531466 &  0.4531466 & -0.5206933 &  0.5731513 & -0.5039526\\\\\n\t3 &  0.3741576 &  0.3741576 &  0.3300492 &  0.8432740 & -1.3363062 & -1.054093 & -0.843274 & -1.5202339 & -1.5202339 & -0.2791345 &  0.1180017 & -0.5039526\\\\\n\\end{tabular}\n",
            "text/plain": [
              "  index      unique_id  district   sex        age        volunteer career   \n",
              "1  1.0344358  1.0344358  1.0561574 -0.4216370  0.3563483 -0.421637 -0.843274\n",
              "2 -0.9629057 -0.9629057 -0.9571426 -0.1054093  0.4008919  0.843274  1.054093\n",
              "3  0.3741576  0.3741576  0.3300492  0.8432740 -1.3363062 -1.054093 -0.843274\n",
              "  rating_ave rating_rand survival_days rank       winner    \n",
              "1  0.4092937  0.4092937   0.8803474    -0.8428696  1.0079053\n",
              "2  0.4531466  0.4531466  -0.5206933     0.5731513 -0.5039526\n",
              "3 -1.5202339 -1.5202339  -0.2791345     0.1180017 -0.5039526"
            ]
          },
          "metadata": {}
        },
        {
          "output_type": "display_data",
          "data": {
            "text/html": [
              "<style>\n",
              ".list-inline {list-style: none; margin:0; padding: 0}\n",
              ".list-inline>li {display: inline-block}\n",
              ".list-inline>li:not(:last-child)::after {content: \"\\00b7\"; padding: 0 .5ex}\n",
              "</style>\n",
              "<ol class=list-inline><li>3</li><li>4</li><li>2</li></ol>\n"
            ],
            "text/markdown": "1. 3\n2. 4\n3. 2\n\n\n",
            "text/latex": "\\begin{enumerate*}\n\\item 3\n\\item 4\n\\item 2\n\\end{enumerate*}\n",
            "text/plain": [
              "[1] 3 4 2"
            ]
          },
          "metadata": {}
        }
      ]
    },
    {
      "cell_type": "code",
      "source": [
        "# присвоим метки кластеров исходному набору данных\n",
        "df$Cluster <- clust$cluster\n",
        "df$Cluster.Label <- as.character(clust$cluster)\n",
        "\n",
        "df_scaled$Cluster <- clust$cluster\n",
        "df_scaled$Cluster.Label <- as.character(clust$cluster)\n",
        "\n",
        "head(df)"
      ],
      "metadata": {
        "colab": {
          "base_uri": "https://localhost:8080/",
          "height": 306
        },
        "id": "u7yWP-U0bjud",
        "outputId": "950c5805-5b23-463f-a39b-96e0141e58f9"
      },
      "execution_count": null,
      "outputs": [
        {
          "output_type": "display_data",
          "data": {
            "text/html": [
              "<table class=\"dataframe\">\n",
              "<caption>A data.frame: 6 × 14</caption>\n",
              "<thead>\n",
              "\t<tr><th></th><th scope=col>index</th><th scope=col>unique_id</th><th scope=col>district</th><th scope=col>sex</th><th scope=col>age</th><th scope=col>volunteer</th><th scope=col>career</th><th scope=col>rating_ave</th><th scope=col>rating_rand</th><th scope=col>survival_days</th><th scope=col>rank</th><th scope=col>winner</th><th scope=col>Cluster</th><th scope=col>Cluster.Label</th></tr>\n",
              "\t<tr><th></th><th scope=col>&lt;int&gt;</th><th scope=col>&lt;int&gt;</th><th scope=col>&lt;int&gt;</th><th scope=col>&lt;int&gt;</th><th scope=col>&lt;int&gt;</th><th scope=col>&lt;int&gt;</th><th scope=col>&lt;int&gt;</th><th scope=col>&lt;int&gt;</th><th scope=col>&lt;int&gt;</th><th scope=col>&lt;int&gt;</th><th scope=col>&lt;int&gt;</th><th scope=col>&lt;int&gt;</th><th scope=col>&lt;int&gt;</th><th scope=col>&lt;chr&gt;</th></tr>\n",
              "</thead>\n",
              "<tbody>\n",
              "\t<tr><th scope=row>1</th><td> 0</td><td> 1</td><td> 1</td><td>0</td><td>17</td><td>1</td><td>1</td><td> 9</td><td> 9</td><td> 9</td><td> 8</td><td>0</td><td>2</td><td>2</td></tr>\n",
              "\t<tr><th scope=row>2</th><td> 1</td><td> 2</td><td> 1</td><td>1</td><td>17</td><td>1</td><td>1</td><td>10</td><td>10</td><td> 5</td><td>11</td><td>0</td><td>2</td><td>2</td></tr>\n",
              "\t<tr><th scope=row>3</th><td> 2</td><td> 3</td><td> 2</td><td>0</td><td>18</td><td>1</td><td>1</td><td>10</td><td>10</td><td>17</td><td> 3</td><td>0</td><td>2</td><td>2</td></tr>\n",
              "\t<tr><th scope=row>4</th><td> 3</td><td> 4</td><td> 2</td><td>1</td><td>15</td><td>1</td><td>1</td><td>10</td><td>10</td><td>12</td><td> 6</td><td>0</td><td>2</td><td>2</td></tr>\n",
              "\t<tr><th scope=row>10</th><td> 9</td><td>10</td><td> 5</td><td>1</td><td>15</td><td>0</td><td>0</td><td> 5</td><td> 5</td><td>15</td><td> 4</td><td>0</td><td>3</td><td>3</td></tr>\n",
              "\t<tr><th scope=row>21</th><td>20</td><td>21</td><td>11</td><td>0</td><td>18</td><td>0</td><td>0</td><td>10</td><td>10</td><td>14</td><td> 5</td><td>0</td><td>1</td><td>1</td></tr>\n",
              "</tbody>\n",
              "</table>\n"
            ],
            "text/markdown": "\nA data.frame: 6 × 14\n\n| <!--/--> | index &lt;int&gt; | unique_id &lt;int&gt; | district &lt;int&gt; | sex &lt;int&gt; | age &lt;int&gt; | volunteer &lt;int&gt; | career &lt;int&gt; | rating_ave &lt;int&gt; | rating_rand &lt;int&gt; | survival_days &lt;int&gt; | rank &lt;int&gt; | winner &lt;int&gt; | Cluster &lt;int&gt; | Cluster.Label &lt;chr&gt; |\n|---|---|---|---|---|---|---|---|---|---|---|---|---|---|---|\n| 1 |  0 |  1 |  1 | 0 | 17 | 1 | 1 |  9 |  9 |  9 |  8 | 0 | 2 | 2 |\n| 2 |  1 |  2 |  1 | 1 | 17 | 1 | 1 | 10 | 10 |  5 | 11 | 0 | 2 | 2 |\n| 3 |  2 |  3 |  2 | 0 | 18 | 1 | 1 | 10 | 10 | 17 |  3 | 0 | 2 | 2 |\n| 4 |  3 |  4 |  2 | 1 | 15 | 1 | 1 | 10 | 10 | 12 |  6 | 0 | 2 | 2 |\n| 10 |  9 | 10 |  5 | 1 | 15 | 0 | 0 |  5 |  5 | 15 |  4 | 0 | 3 | 3 |\n| 21 | 20 | 21 | 11 | 0 | 18 | 0 | 0 | 10 | 10 | 14 |  5 | 0 | 1 | 1 |\n\n",
            "text/latex": "A data.frame: 6 × 14\n\\begin{tabular}{r|llllllllllllll}\n  & index & unique\\_id & district & sex & age & volunteer & career & rating\\_ave & rating\\_rand & survival\\_days & rank & winner & Cluster & Cluster.Label\\\\\n  & <int> & <int> & <int> & <int> & <int> & <int> & <int> & <int> & <int> & <int> & <int> & <int> & <int> & <chr>\\\\\n\\hline\n\t1 &  0 &  1 &  1 & 0 & 17 & 1 & 1 &  9 &  9 &  9 &  8 & 0 & 2 & 2\\\\\n\t2 &  1 &  2 &  1 & 1 & 17 & 1 & 1 & 10 & 10 &  5 & 11 & 0 & 2 & 2\\\\\n\t3 &  2 &  3 &  2 & 0 & 18 & 1 & 1 & 10 & 10 & 17 &  3 & 0 & 2 & 2\\\\\n\t4 &  3 &  4 &  2 & 1 & 15 & 1 & 1 & 10 & 10 & 12 &  6 & 0 & 2 & 2\\\\\n\t10 &  9 & 10 &  5 & 1 & 15 & 0 & 0 &  5 &  5 & 15 &  4 & 0 & 3 & 3\\\\\n\t21 & 20 & 21 & 11 & 0 & 18 & 0 & 0 & 10 & 10 & 14 &  5 & 0 & 1 & 1\\\\\n\\end{tabular}\n",
            "text/plain": [
              "   index unique_id district sex age volunteer career rating_ave rating_rand\n",
              "1   0     1         1       0   17  1         1       9          9         \n",
              "2   1     2         1       1   17  1         1      10         10         \n",
              "3   2     3         2       0   18  1         1      10         10         \n",
              "4   3     4         2       1   15  1         1      10         10         \n",
              "10  9    10         5       1   15  0         0       5          5         \n",
              "21 20    21        11       0   18  0         0      10         10         \n",
              "   survival_days rank winner Cluster Cluster.Label\n",
              "1   9             8   0      2       2            \n",
              "2   5            11   0      2       2            \n",
              "3  17             3   0      2       2            \n",
              "4  12             6   0      2       2            \n",
              "10 15             4   0      3       3            \n",
              "21 14             5   0      1       1            "
            ]
          },
          "metadata": {}
        }
      ]
    },
    {
      "cell_type": "code",
      "source": [
        "# Make plots wider \n",
        "options(repr.plot.width=15, repr.plot.height=8)"
      ],
      "metadata": {
        "id": "IBOC6Xmjblje"
      },
      "execution_count": null,
      "outputs": []
    },
    {
      "cell_type": "code",
      "source": [
        "# Построим тепловую карту\n",
        "center <- clust$centers\n",
        "\n",
        "# Create dataset with the cluster number\n",
        "cluster <- c(1:nrow(center))\n",
        "center_df <- data.frame(cluster, center)\n",
        "\n",
        "# Reshape the data\n",
        "center_reshape <- gather(center_df, features, values, index:winner)\n",
        "head(center_reshape)"
      ],
      "metadata": {
        "colab": {
          "base_uri": "https://localhost:8080/",
          "height": 286
        },
        "id": "lSeT_3ssbn7m",
        "outputId": "38c9a300-d2ac-418b-fba5-442f7440e38b"
      },
      "execution_count": null,
      "outputs": [
        {
          "output_type": "display_data",
          "data": {
            "text/html": [
              "<table class=\"dataframe\">\n",
              "<caption>A data.frame: 6 × 3</caption>\n",
              "<thead>\n",
              "\t<tr><th></th><th scope=col>cluster</th><th scope=col>features</th><th scope=col>values</th></tr>\n",
              "\t<tr><th></th><th scope=col>&lt;int&gt;</th><th scope=col>&lt;chr&gt;</th><th scope=col>&lt;dbl&gt;</th></tr>\n",
              "</thead>\n",
              "<tbody>\n",
              "\t<tr><th scope=row>1</th><td>1</td><td>index    </td><td> 1.0344358</td></tr>\n",
              "\t<tr><th scope=row>2</th><td>2</td><td>index    </td><td>-0.9629057</td></tr>\n",
              "\t<tr><th scope=row>3</th><td>3</td><td>index    </td><td> 0.3741576</td></tr>\n",
              "\t<tr><th scope=row>4</th><td>1</td><td>unique_id</td><td> 1.0344358</td></tr>\n",
              "\t<tr><th scope=row>5</th><td>2</td><td>unique_id</td><td>-0.9629057</td></tr>\n",
              "\t<tr><th scope=row>6</th><td>3</td><td>unique_id</td><td> 0.3741576</td></tr>\n",
              "</tbody>\n",
              "</table>\n"
            ],
            "text/markdown": "\nA data.frame: 6 × 3\n\n| <!--/--> | cluster &lt;int&gt; | features &lt;chr&gt; | values &lt;dbl&gt; |\n|---|---|---|---|\n| 1 | 1 | index     |  1.0344358 |\n| 2 | 2 | index     | -0.9629057 |\n| 3 | 3 | index     |  0.3741576 |\n| 4 | 1 | unique_id |  1.0344358 |\n| 5 | 2 | unique_id | -0.9629057 |\n| 6 | 3 | unique_id |  0.3741576 |\n\n",
            "text/latex": "A data.frame: 6 × 3\n\\begin{tabular}{r|lll}\n  & cluster & features & values\\\\\n  & <int> & <chr> & <dbl>\\\\\n\\hline\n\t1 & 1 & index     &  1.0344358\\\\\n\t2 & 2 & index     & -0.9629057\\\\\n\t3 & 3 & index     &  0.3741576\\\\\n\t4 & 1 & unique\\_id &  1.0344358\\\\\n\t5 & 2 & unique\\_id & -0.9629057\\\\\n\t6 & 3 & unique\\_id &  0.3741576\\\\\n\\end{tabular}\n",
            "text/plain": [
              "  cluster features  values    \n",
              "1 1       index      1.0344358\n",
              "2 2       index     -0.9629057\n",
              "3 3       index      0.3741576\n",
              "4 1       unique_id  1.0344358\n",
              "5 2       unique_id -0.9629057\n",
              "6 3       unique_id  0.3741576"
            ]
          },
          "metadata": {}
        }
      ]
    },
    {
      "cell_type": "code",
      "source": [
        "# Create the palette\n",
        "hm.palette <-colorRampPalette(rev(brewer.pal(10, 'RdYlGn')), space='Lab')\n",
        "\n",
        "# Plot the heat map\n",
        "ggplot(data = center_reshape, aes(x = features, y = cluster, fill = values)) +\n",
        "    scale_y_continuous(breaks = seq(1, 8, by = 1)) +\n",
        "    geom_tile() +\n",
        "    coord_equal() +\n",
        "    scale_fill_gradientn(colours = hm.palette(50)) +\n",
        "    theme(aspect.ratio = 0.85)"
      ],
      "metadata": {
        "colab": {
          "base_uri": "https://localhost:8080/",
          "height": 497
        },
        "id": "Bnu4p23ScXS0",
        "outputId": "b9abd31c-003c-461d-996b-0a878f52db82"
      },
      "execution_count": null,
      "outputs": [
        {
          "output_type": "display_data",
          "data": {
            "text/plain": [
              "plot without title"
            ],
            "image/png": "[encoded data removed]"
          },
          "metadata": {
            "image/png": {
              "width": 900,
              "height": 480
            }
          }
        }
      ]
    },
    {
      "cell_type": "code",
      "source": [
        "# визуализация данных в разрезе возраста и дохода покупателя с центрами кластеров\n",
        "ggplot() +\n",
        "  geom_point(data = df_scaled, mapping = aes(x = sex, y = age, colour = Cluster.Label)) +\n",
        "    geom_point(mapping = aes_string(x = clust$centers[, \"sex\"], \n",
        "                                  y = clust$centers[, \"age\"]),\n",
        "                                  color = \"red\", size = 4)"
      ],
      "metadata": {
        "colab": {
          "base_uri": "https://localhost:8080/",
          "height": 497
        },
        "id": "b1UgfcDDcfKh",
        "outputId": "9f861444-aa46-4979-e433-07507709e097"
      },
      "execution_count": null,
      "outputs": [
        {
          "output_type": "display_data",
          "data": {
            "text/plain": [
              "plot without title"
            ],
            "image/png": "[encoded data removed]"
          },
          "metadata": {
            "image/png": {
              "width": 900,
              "height": 480
            }
          }
        }
      ]
    },
    {
      "cell_type": "code",
      "source": [
        "2 часть"
      ],
      "metadata": {
        "id": "adkkaz8AgMZT"
      },
      "execution_count": null,
      "outputs": []
    },
    {
      "cell_type": "code",
      "source": [
        "\n",
        "# libraries\n",
        "install.packages(\"naivebayes\")\n",
        "install.packages(\"psych\")\n",
        "\n",
        "library(naivebayes)\n",
        "library(dplyr)\n",
        "library(ggplot2)\n",
        "library(psych)"
      ],
      "metadata": {
        "colab": {
          "base_uri": "https://localhost:8080/"
        },
        "id": "9Dz8UaoxevGl",
        "outputId": "0ba5cc3b-8bd6-4b23-e1a3-b84e3cba5024"
      },
      "execution_count": null,
      "outputs": [
        {
          "output_type": "stream",
          "name": "stderr",
          "text": [
            "Installing package into ‘/usr/local/lib/R/site-library’\n",
            "(as ‘lib’ is unspecified)\n",
            "\n",
            "Installing package into ‘/usr/local/lib/R/site-library’\n",
            "(as ‘lib’ is unspecified)\n",
            "\n"
          ]
        }
      ]
    },
    {
      "cell_type": "code",
      "source": [
        "# считываем датасет\n",
        "getwd()\n",
        "data <- read.csv('https://raw.githubusercontent.com/bkrai/Statistical-Modeling-and-Graphs-with-R/main/binary.csv')"
      ],
      "metadata": {
        "colab": {
          "base_uri": "https://localhost:8080/",
          "height": 34
        },
        "id": "Wc1rfJedgOmv",
        "outputId": "797ba1b5-a938-48d1-eb25-4a3d3ba82d0e"
      },
      "execution_count": null,
      "outputs": [
        {
          "output_type": "display_data",
          "data": {
            "text/html": [
              "'/content'"
            ],
            "text/markdown": "'/content'",
            "text/latex": "'/content'",
            "text/plain": [
              "[1] \"/content\""
            ]
          },
          "metadata": {}
        }
      ]
    },
    {
      "cell_type": "code",
      "source": [
        "# содержимое данных\n",
        "str(data)\n",
        "summary(data)"
      ],
      "metadata": {
        "colab": {
          "base_uri": "https://localhost:8080/",
          "height": 238
        },
        "id": "VOVAeFcUkpxk",
        "outputId": "dec1e236-cd61-4318-e8fb-3df179d723f4"
      },
      "execution_count": null,
      "outputs": [
        {
          "output_type": "stream",
          "name": "stdout",
          "text": [
            "'data.frame':\t400 obs. of  4 variables:\n",
            " $ admit: int  0 1 1 1 0 1 1 0 1 0 ...\n",
            " $ gre  : int  380 660 800 640 520 760 560 400 540 700 ...\n",
            " $ gpa  : num  3.61 3.67 4 3.19 2.93 3 2.98 3.08 3.39 3.92 ...\n",
            " $ rank : int  3 3 1 4 4 2 1 2 3 2 ...\n"
          ]
        },
        {
          "output_type": "display_data",
          "data": {
            "text/plain": [
              "     admit             gre             gpa             rank      \n",
              " Min.   :0.0000   Min.   :220.0   Min.   :2.260   Min.   :1.000  \n",
              " 1st Qu.:0.0000   1st Qu.:520.0   1st Qu.:3.130   1st Qu.:2.000  \n",
              " Median :0.0000   Median :580.0   Median :3.395   Median :2.000  \n",
              " Mean   :0.3175   Mean   :587.7   Mean   :3.390   Mean   :2.485  \n",
              " 3rd Qu.:1.0000   3rd Qu.:660.0   3rd Qu.:3.670   3rd Qu.:3.000  \n",
              " Max.   :1.0000   Max.   :800.0   Max.   :4.000   Max.   :4.000  "
            ]
          },
          "metadata": {}
        }
      ]
    },
    {
      "cell_type": "code",
      "source": [
        "# поля rank и admit категориальные переменные, приведем к фактору (строка-категория)\n",
        "data$rank <- as.factor(data$rank)\n",
        "data$admit <- as.factor(data$admit)"
      ],
      "metadata": {
        "id": "RpCFwgvQkroJ"
      },
      "execution_count": null,
      "outputs": []
    },
    {
      "cell_type": "code",
      "source": [
        "# разбиение выборки на обучающую и тестовую выборки в пропорции 80% к 20% соответственно\n",
        "set.seed(42)\n",
        "ind <- sample(2, nrow(data), replace=TRUE, prob=c(0.8,.2))\n",
        "train <- data[ind==1,]\n",
        "test <- data[ind==2,]"
      ],
      "metadata": {
        "id": "X0a-2nX5k3Cp"
      },
      "execution_count": null,
      "outputs": []
    },
    {
      "cell_type": "code",
      "source": [
        "# модель Naive Bayes; admit как функция для всех остальных данных (.)\n",
        "model <- naive_bayes(admit ~ ., data = train, usekernel = T)\n",
        "model"
      ],
      "metadata": {
        "colab": {
          "base_uri": "https://localhost:8080/",
          "height": 1000
        },
        "id": "lKkVNRNAk7sT",
        "outputId": "4b2ae918-acc7-4f3f-8aaa-a68e1390d408"
      },
      "execution_count": null,
      "outputs": [
        {
          "output_type": "display_data",
          "data": {
            "text/plain": [
              "\n",
              "================================== Naive Bayes ================================== \n",
              " \n",
              " Call: \n",
              "naive_bayes.formula(formula = admit ~ ., data = train, usekernel = T)\n",
              "\n",
              "--------------------------------------------------------------------------------- \n",
              " \n",
              "Laplace smoothing: 0\n",
              "\n",
              "--------------------------------------------------------------------------------- \n",
              " \n",
              " A priori probabilities: \n",
              "\n",
              "       0        1 \n",
              "0.677116 0.322884 \n",
              "\n",
              "--------------------------------------------------------------------------------- \n",
              " \n",
              " Tables: \n",
              "\n",
              "--------------------------------------------------------------------------------- \n",
              " ::: gre::0 (KDE)\n",
              "--------------------------------------------------------------------------------- \n",
              "\n",
              "Call:\n",
              "\tdensity.default(x = x, na.rm = TRUE)\n",
              "\n",
              "Data: x (216 obs.);\tBandwidth 'bw' = 35.36\n",
              "\n",
              "       x               y            \n",
              " Min.   :193.9   Min.   :0.0000012  \n",
              " 1st Qu.:372.0   1st Qu.:0.0002996  \n",
              " Median :550.0   Median :0.0012170  \n",
              " Mean   :550.0   Mean   :0.0014027  \n",
              " 3rd Qu.:728.0   3rd Qu.:0.0025592  \n",
              " Max.   :906.1   Max.   :0.0031371  \n",
              "\n",
              "--------------------------------------------------------------------------------- \n",
              " ::: gre::1 (KDE)\n",
              "--------------------------------------------------------------------------------- \n",
              "\n",
              "Call:\n",
              "\tdensity.default(x = x, na.rm = TRUE)\n",
              "\n",
              "Data: x (103 obs.);\tBandwidth 'bw' = 37.21\n",
              "\n",
              "       x               y            \n",
              " Min.   :228.4   Min.   :1.177e-06  \n",
              " 1st Qu.:399.2   1st Qu.:2.155e-04  \n",
              " Median :570.0   Median :1.493e-03  \n",
              " Mean   :570.0   Mean   :1.462e-03  \n",
              " 3rd Qu.:740.8   3rd Qu.:2.631e-03  \n",
              " Max.   :911.6   Max.   :3.289e-03  \n",
              "\n",
              "--------------------------------------------------------------------------------- \n",
              " ::: gpa::0 (KDE)\n",
              "--------------------------------------------------------------------------------- \n",
              "\n",
              "Call:\n",
              "\tdensity.default(x = x, na.rm = TRUE)\n",
              "\n",
              "Data: x (216 obs.);\tBandwidth 'bw' = 0.116\n",
              "\n",
              "       x               y            \n",
              " Min.   :1.912   Min.   :0.0001807  \n",
              " 1st Qu.:2.521   1st Qu.:0.0467462  \n",
              " Median :3.130   Median :0.4130343  \n",
              " Mean   :3.130   Mean   :0.4100566  \n",
              " 3rd Qu.:3.739   3rd Qu.:0.7043209  \n",
              " Max.   :4.348   Max.   :1.0143689  \n",
              "\n",
              "--------------------------------------------------------------------------------- \n",
              " ::: gpa::1 (KDE)\n",
              "--------------------------------------------------------------------------------- \n",
              "\n",
              "Call:\n",
              "\tdensity.default(x = x, na.rm = TRUE)\n",
              "\n",
              "Data: x (103 obs.);\tBandwidth 'bw' = 0.1348\n",
              "\n",
              "       x               y            \n",
              " Min.   :2.016   Min.   :0.0003251  \n",
              " 1st Qu.:2.613   1st Qu.:0.0709231  \n",
              " Median :3.210   Median :0.3492694  \n",
              " Mean   :3.210   Mean   :0.4181310  \n",
              " 3rd Qu.:3.807   3rd Qu.:0.7399729  \n",
              " Max.   :4.404   Max.   :1.0376197  \n",
              "\n",
              "--------------------------------------------------------------------------------- \n",
              " ::: rank (Categorical) \n",
              "--------------------------------------------------------------------------------- \n",
              "    \n",
              "rank          0          1\n",
              "   1 0.09259259 0.28155340\n",
              "   2 0.37500000 0.40776699\n",
              "   3 0.33796296 0.22330097\n",
              "   4 0.19444444 0.08737864\n",
              "\n",
              "---------------------------------------------------------------------------------\n"
            ]
          },
          "metadata": {}
        }
      ]
    },
    {
      "cell_type": "code",
      "source": [
        "# предсказание на тренировочно выборке\n",
        "p <- predict(model, train, type= 'prob')\n",
        "head(cbind(p, train))"
      ],
      "metadata": {
        "colab": {
          "base_uri": "https://localhost:8080/",
          "height": 343
        },
        "id": "NaNaQoPnowEw",
        "outputId": "e33221cf-4bcb-4336-a9b4-45e0e9e4c186"
      },
      "execution_count": null,
      "outputs": [
        {
          "output_type": "stream",
          "name": "stderr",
          "text": [
            "Warning message:\n",
            "“predict.naive_bayes(): more features in the newdata are provided as there are probability tables in the object. Calculation is performed based on features to be found in the tables.”\n"
          ]
        },
        {
          "output_type": "display_data",
          "data": {
            "text/html": [
              "<table class=\"dataframe\">\n",
              "<caption>A data.frame: 6 × 6</caption>\n",
              "<thead>\n",
              "\t<tr><th></th><th scope=col>0</th><th scope=col>1</th><th scope=col>admit</th><th scope=col>gre</th><th scope=col>gpa</th><th scope=col>rank</th></tr>\n",
              "\t<tr><th></th><th scope=col>&lt;dbl&gt;</th><th scope=col>&lt;dbl&gt;</th><th scope=col>&lt;fct&gt;</th><th scope=col>&lt;int&gt;</th><th scope=col>&lt;dbl&gt;</th><th scope=col>&lt;fct&gt;</th></tr>\n",
              "</thead>\n",
              "<tbody>\n",
              "\t<tr><th scope=row>3</th><td>0.1796866</td><td>0.8203134</td><td>1</td><td>800</td><td>4.00</td><td>1</td></tr>\n",
              "\t<tr><th scope=row>5</th><td>0.8895321</td><td>0.1104679</td><td>0</td><td>520</td><td>2.93</td><td>4</td></tr>\n",
              "\t<tr><th scope=row>6</th><td>0.6270414</td><td>0.3729586</td><td>1</td><td>760</td><td>3.00</td><td>2</td></tr>\n",
              "\t<tr><th scope=row>7</th><td>0.5318809</td><td>0.4681191</td><td>1</td><td>560</td><td>2.98</td><td>1</td></tr>\n",
              "\t<tr><th scope=row>8</th><td>0.8889455</td><td>0.1110545</td><td>0</td><td>400</td><td>3.08</td><td>2</td></tr>\n",
              "\t<tr><th scope=row>9</th><td>0.7995766</td><td>0.2004234</td><td>1</td><td>540</td><td>3.39</td><td>3</td></tr>\n",
              "</tbody>\n",
              "</table>\n"
            ],
            "text/markdown": "\nA data.frame: 6 × 6\n\n| <!--/--> | 0 &lt;dbl&gt; | 1 &lt;dbl&gt; | admit &lt;fct&gt; | gre &lt;int&gt; | gpa &lt;dbl&gt; | rank &lt;fct&gt; |\n|---|---|---|---|---|---|---|\n| 3 | 0.1796866 | 0.8203134 | 1 | 800 | 4.00 | 1 |\n| 5 | 0.8895321 | 0.1104679 | 0 | 520 | 2.93 | 4 |\n| 6 | 0.6270414 | 0.3729586 | 1 | 760 | 3.00 | 2 |\n| 7 | 0.5318809 | 0.4681191 | 1 | 560 | 2.98 | 1 |\n| 8 | 0.8889455 | 0.1110545 | 0 | 400 | 3.08 | 2 |\n| 9 | 0.7995766 | 0.2004234 | 1 | 540 | 3.39 | 3 |\n\n",
            "text/latex": "A data.frame: 6 × 6\n\\begin{tabular}{r|llllll}\n  & 0 & 1 & admit & gre & gpa & rank\\\\\n  & <dbl> & <dbl> & <fct> & <int> & <dbl> & <fct>\\\\\n\\hline\n\t3 & 0.1796866 & 0.8203134 & 1 & 800 & 4.00 & 1\\\\\n\t5 & 0.8895321 & 0.1104679 & 0 & 520 & 2.93 & 4\\\\\n\t6 & 0.6270414 & 0.3729586 & 1 & 760 & 3.00 & 2\\\\\n\t7 & 0.5318809 & 0.4681191 & 1 & 560 & 2.98 & 1\\\\\n\t8 & 0.8889455 & 0.1110545 & 0 & 400 & 3.08 & 2\\\\\n\t9 & 0.7995766 & 0.2004234 & 1 & 540 & 3.39 & 3\\\\\n\\end{tabular}\n",
            "text/plain": [
              "  0         1         admit gre gpa  rank\n",
              "3 0.1796866 0.8203134 1     800 4.00 1   \n",
              "5 0.8895321 0.1104679 0     520 2.93 4   \n",
              "6 0.6270414 0.3729586 1     760 3.00 2   \n",
              "7 0.5318809 0.4681191 1     560 2.98 1   \n",
              "8 0.8889455 0.1110545 0     400 3.08 2   \n",
              "9 0.7995766 0.2004234 1     540 3.39 3   "
            ]
          },
          "metadata": {}
        }
      ]
    },
    {
      "cell_type": "code",
      "source": [
        "cat(\"# Misclassification error - train data:\")\n",
        "p1 <- predict(model, within(train, rm(admit)))\n",
        "(tab1 <- table(p1, train$admit))\n",
        "1 - sum(diag(tab1))/ sum(tab1)\n",
        "\n",
        "cat(\"\\n# Misclassification error - test data\")\n",
        "p2 <- predict(model, within(test, rm(admit)))\n",
        "(tab2 <- table(p2, test$admit))\n",
        "1 - sum(diag(tab2))/ sum(tab2)"
      ],
      "metadata": {
        "colab": {
          "base_uri": "https://localhost:8080/",
          "height": 255
        },
        "id": "4vdyNGQ_o5lj",
        "outputId": "c5243bcc-7f89-45c2-9449-590e1f76cbec"
      },
      "execution_count": null,
      "outputs": [
        {
          "output_type": "stream",
          "name": "stdout",
          "text": [
            "# Misclassification error - train data:"
          ]
        },
        {
          "output_type": "display_data",
          "data": {
            "text/plain": [
              "   \n",
              "p1    0   1\n",
              "  0 200  74\n",
              "  1  16  29"
            ]
          },
          "metadata": {}
        },
        {
          "output_type": "display_data",
          "data": {
            "text/html": [
              "0.282131661442006"
            ],
            "text/markdown": "0.282131661442006",
            "text/latex": "0.282131661442006",
            "text/plain": [
              "[1] 0.2821317"
            ]
          },
          "metadata": {}
        },
        {
          "output_type": "stream",
          "name": "stdout",
          "text": [
            "\n",
            "# Misclassification error - test data"
          ]
        },
        {
          "output_type": "display_data",
          "data": {
            "text/plain": [
              "   \n",
              "p2   0  1\n",
              "  0 52 20\n",
              "  1  5  4"
            ]
          },
          "metadata": {}
        },
        {
          "output_type": "display_data",
          "data": {
            "text/html": [
              "0.308641975308642"
            ],
            "text/markdown": "0.308641975308642",
            "text/latex": "0.308641975308642",
            "text/plain": [
              "[1] 0.308642"
            ]
          },
          "metadata": {}
        }
      ]
    },
    {
      "cell_type": "code",
      "source": [
        "# конструируем аналогичный фактор  \n",
        "rank = as.factor(1:4)\n",
        "\n",
        "# новые данные из 3х элементов\n",
        "new <- data.frame(gre=c(230, 600, 800), gpa=c(2.0, 3.0, 4.0), rank=rank[c(4, 2, 1)])\n",
        "new$rank <- as.factor(new$rank)\n",
        "new$gre <- as.integer(new$gre)\n",
        "\n",
        "# метки\n",
        "p3 <- predict(model, new)\n",
        "\n",
        "cbind(admit=p3, new)\n",
        "\n",
        "# ToDo: вывести графики"
      ],
      "metadata": {
        "id": "tag8AakVo-_1",
        "outputId": "4e9309cb-a3c7-4206-ab4a-6f18c72d122c",
        "colab": {
          "base_uri": "https://localhost:8080/",
          "height": 192
        }
      },
      "execution_count": null,
      "outputs": [
        {
          "output_type": "display_data",
          "data": {
            "text/html": [
              "<table class=\"dataframe\">\n",
              "<caption>A data.frame: 3 × 4</caption>\n",
              "<thead>\n",
              "\t<tr><th scope=col>admit</th><th scope=col>gre</th><th scope=col>gpa</th><th scope=col>rank</th></tr>\n",
              "\t<tr><th scope=col>&lt;fct&gt;</th><th scope=col>&lt;int&gt;</th><th scope=col>&lt;dbl&gt;</th><th scope=col>&lt;fct&gt;</th></tr>\n",
              "</thead>\n",
              "<tbody>\n",
              "\t<tr><td>0</td><td>230</td><td>2</td><td>4</td></tr>\n",
              "\t<tr><td>0</td><td>600</td><td>3</td><td>2</td></tr>\n",
              "\t<tr><td>1</td><td>800</td><td>4</td><td>1</td></tr>\n",
              "</tbody>\n",
              "</table>\n"
            ],
            "text/markdown": "\nA data.frame: 3 × 4\n\n| admit &lt;fct&gt; | gre &lt;int&gt; | gpa &lt;dbl&gt; | rank &lt;fct&gt; |\n|---|---|---|---|\n| 0 | 230 | 2 | 4 |\n| 0 | 600 | 3 | 2 |\n| 1 | 800 | 4 | 1 |\n\n",
            "text/latex": "A data.frame: 3 × 4\n\\begin{tabular}{llll}\n admit & gre & gpa & rank\\\\\n <fct> & <int> & <dbl> & <fct>\\\\\n\\hline\n\t 0 & 230 & 2 & 4\\\\\n\t 0 & 600 & 3 & 2\\\\\n\t 1 & 800 & 4 & 1\\\\\n\\end{tabular}\n",
            "text/plain": [
              "  admit gre gpa rank\n",
              "1 0     230 2   4   \n",
              "2 0     600 3   2   \n",
              "3 1     800 4   1   "
            ]
          },
          "metadata": {}
        }
      ]
    }
  ]
}